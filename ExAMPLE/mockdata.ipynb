{
 "cells": [
  {
   "cell_type": "code",
   "execution_count": 3,
   "metadata": {},
   "outputs": [],
   "source": [
    "import numpy as np\n",
    "import matplotlib.pyplot as plt\n",
    "from scipy.optimize import minimize"
   ]
  },
  {
   "cell_type": "code",
   "execution_count": 4,
   "metadata": {},
   "outputs": [
    {
     "name": "stdout",
     "output_type": "stream",
     "text": [
      "ExTRA correctly imported\n"
     ]
    }
   ],
   "source": [
    "import sys\n",
    "sys.path.append(\"/home/tom/coding/ExTRApack/\")\n",
    "import ExTRA as ex"
   ]
  },
  {
   "cell_type": "code",
   "execution_count": 5,
   "metadata": {},
   "outputs": [],
   "source": [
    "#standard epochs\n",
    "J1991=2448349.0 #1991.25\n",
    "J2000=2451545.0\n",
    "J2016=2457389.0"
   ]
  },
  {
   "cell_type": "code",
   "execution_count": 6,
   "metadata": {},
   "outputs": [],
   "source": [
    "#standard model:\n",
    "#at J2016\n",
    "\n",
    "asc=20\n",
    "dec=-10\n",
    "parallax=200\n",
    "mu_a_star=-100\n",
    "mu_d=+300\n",
    "\n",
    "standard=np.array([asc,dec,parallax,mu_a_star,mu_d])"
   ]
  },
  {
   "cell_type": "code",
   "execution_count": null,
   "metadata": {},
   "outputs": [],
   "source": []
  },
  {
   "cell_type": "code",
   "execution_count": 7,
   "metadata": {},
   "outputs": [],
   "source": [
    "#orbital elements\n",
    "P=550\n",
    "e=0.3\n",
    "om=np.radians(0)\n",
    "i=np.radians(30)\n",
    "Om=np.radians(75)\n",
    "T0=J1991+900 #900 days after standard 1991\n",
    "a=3\n",
    "orbpar=np.array([P,e,om,i,Om,T0,a])\n",
    "\n",
    "\n",
    "#timestamps of measurements\n",
    "t_mock=np.linspace(T0-2*P,T0+2*P,100)\n",
    "\n",
    "\n",
    "\n",
    "\n",
    "\n",
    "\n",
    "\n",
    "\n",
    "\n",
    "\n",
    "#orbit\n",
    "t_orb=np.linspace(T0-2*P,T0+2*P,int(P/5))\n",
    "mock_orbit=ex.orbit(*orbpar,t_orb)"
   ]
  },
  {
   "cell_type": "code",
   "execution_count": null,
   "metadata": {},
   "outputs": [],
   "source": []
  },
  {
   "cell_type": "code",
   "execution_count": 8,
   "metadata": {},
   "outputs": [],
   "source": [
    "#rv\n",
    "t_RV=np.linspace(T0-2*P,T0+2*P,int(P/5))\n",
    "\n",
    "v=10\n",
    "\n",
    "#RVdata\n",
    "RV=ex.RV_comb(v,P,e,om,i,T0,a,parallax,t_RV)\n",
    "#error\n",
    "RV_err=np.ones(len(RV))*10\n",
    "\n",
    "\n",
    "\n",
    "#plt.figure(figsize=(10,5))\n",
    "#plt.scatter(t_RV,RV,s=10)\n",
    "#plt.xlim([t_RV[0],t_RV[-1]])\n",
    "#plt.grid()\n",
    "#plt.show()\n"
   ]
  },
  {
   "cell_type": "code",
   "execution_count": 9,
   "metadata": {},
   "outputs": [],
   "source": [
    "def write_RV(data):\n",
    "    with open('mock_RV.txt', mode='w') as file:\n",
    "        for row in data:\n",
    "            file.write(\"{:<10}\\t{:<10}\\t{:<10}\\n\".format(row[0], row[1], row[2]))"
   ]
  },
  {
   "cell_type": "code",
   "execution_count": 10,
   "metadata": {},
   "outputs": [],
   "source": [
    "RV_data=np.array([t_RV,RV,RV_err])\n",
    "RV_data=np.transpose(RV_data)\n",
    "write_RV(RV_data)"
   ]
  },
  {
   "cell_type": "code",
   "execution_count": 18,
   "metadata": {},
   "outputs": [],
   "source": [
    "#HIP\n",
    "#motions\n",
    "t_HIP=t_RV\n",
    "\n",
    "earth=ex.earth_position(t_HIP)\n",
    "\n",
    "std=np.array(ex.standard_model(asc,dec,parallax,mu_a_star,mu_d,t_HIP,earth,tangential=True))\n",
    "orb=np.array(ex.orbit(P,e,om,i,Om,T0,a,t_HIP))\n",
    "orb_mock=np.array(ex.orbit(P,e,om,i,Om-1.5,T0,a,t_HIP))\n",
    "#motion=std+orb\n",
    "\n",
    "\n",
    "\n",
    "\n",
    "#A3,A4,A5,A6,A7,A8,A9=hip_ad\n",
    "\n",
    "angle=np.arctan2(orb[1],orb[0])\n",
    "\n",
    "A8=np.sqrt(orb[0]**2 + orb[1]**2)\n",
    "A9=abs(np.random.normal(np.std(A8),0.5*np.std(A8),len(A8)))\n",
    "\n",
    "#A9=np.ones(len(A8))*np.std(A8)*0.25\n",
    "\n",
    "A5=np.zeros(len(A8))\n",
    "\n",
    "\n",
    "#X and Y\n",
    "A3=1*np.cos(angle)\n",
    "A4=1*np.sin(angle)\n",
    "\n",
    "#year of mesaurement\n",
    "epoch=(t_HIP-J2000)/365.25 +2000\n",
    "\n",
    "#years after HIP stand epoch\n",
    "frac=epoch-1991.25\n",
    "A6=frac*A3\n",
    "A7=frac*A4 #to A4 corresponding poper motion factor\n",
    "\n",
    "\n",
    "HIP=A3,A4,A5,A6,A7,A8,A9\n",
    "\n",
    "hip_standard=np.zeros(5)\n",
    "\n",
    "\n",
    "hip_standard[0],hip_standard[1]=ex.pos_recalc(*[asc,dec,mu_a_star,mu_d],J2016,J1991)\n",
    "#hip standard epoch is J1991\n",
    "\n",
    "\n",
    "hip_standard[2:5]=np.array(standard[2:5])\n",
    "\n"
   ]
  },
  {
   "cell_type": "code",
   "execution_count": 66,
   "metadata": {},
   "outputs": [],
   "source": [
    "data=np.array([np.arange(0,len(A8)),frac,A5,A3,A4,A8,A9])\n",
    "data=np.around(data,5)\n",
    "data=np.transpose(data)"
   ]
  },
  {
   "cell_type": "code",
   "execution_count": 67,
   "metadata": {},
   "outputs": [],
   "source": [
    "def write_HIP(data):\n",
    "    with open('mock_HIP.txt', mode='w') as file:\n",
    "        file.write(\"useless one line header \\n\")\n",
    "        for row in data:\n",
    "            file.write(\"{:<8}\\t{:<8}\\t{:<8}\\t{:<8}\\t{:<8}\\t{:<8}\\t{:<8}\\n\".format(\n",
    "                row[0], row[1], row[2],row[3],row[4],row[5],row[6]))\n"
   ]
  },
  {
   "cell_type": "code",
   "execution_count": 68,
   "metadata": {},
   "outputs": [],
   "source": [
    "write_HIP(data)"
   ]
  },
  {
   "cell_type": "code",
   "execution_count": null,
   "metadata": {},
   "outputs": [],
   "source": []
  },
  {
   "cell_type": "code",
   "execution_count": null,
   "metadata": {},
   "outputs": [],
   "source": []
  },
  {
   "cell_type": "code",
   "execution_count": null,
   "metadata": {},
   "outputs": [],
   "source": []
  },
  {
   "cell_type": "code",
   "execution_count": null,
   "metadata": {},
   "outputs": [],
   "source": []
  }
 ],
 "metadata": {
  "kernelspec": {
   "display_name": "Python 3",
   "language": "python",
   "name": "python3"
  },
  "language_info": {
   "codemirror_mode": {
    "name": "ipython",
    "version": 3
   },
   "file_extension": ".py",
   "mimetype": "text/x-python",
   "name": "python",
   "nbconvert_exporter": "python",
   "pygments_lexer": "ipython3",
   "version": "3.10.12"
  }
 },
 "nbformat": 4,
 "nbformat_minor": 2
}
