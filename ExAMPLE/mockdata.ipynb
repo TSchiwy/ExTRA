{
 "cells": [
  {
   "cell_type": "code",
   "execution_count": 4,
   "metadata": {},
   "outputs": [],
   "source": [
    "import numpy as np\n",
    "import matplotlib.pyplot as plt\n",
    "from scipy.optimize import minimize"
   ]
  },
  {
   "cell_type": "code",
   "execution_count": 5,
   "metadata": {},
   "outputs": [
    {
     "name": "stdout",
     "output_type": "stream",
     "text": [
      "ExTRA correctly imported\n"
     ]
    }
   ],
   "source": [
    "import sys\n",
    "sys.path.append(\"/home/tom/coding/ExTRApack/\")\n",
    "import ExTRA as ex"
   ]
  },
  {
   "cell_type": "code",
   "execution_count": 6,
   "metadata": {},
   "outputs": [],
   "source": [
    "#standard epochs\n",
    "J1991=2448349.0 #1991.25\n",
    "J2000=2451545.0\n",
    "J2016=2457389.0"
   ]
  },
  {
   "cell_type": "code",
   "execution_count": 7,
   "metadata": {},
   "outputs": [],
   "source": [
    "#standard model:\n",
    "#at J2016\n",
    "\n",
    "asc=20\n",
    "dec=-10\n",
    "parallax=200\n",
    "mu_a_star=-100\n",
    "mu_d=+300\n",
    "\n",
    "standard=np.array([asc,dec,parallax,mu_a_star,mu_d])\n",
    "\n",
    "#hip_inaccuracy=np.array([1,1,0,-5,+5])\n",
    "hip_inaccuracy=np.zeros(5)"
   ]
  },
  {
   "cell_type": "code",
   "execution_count": null,
   "metadata": {},
   "outputs": [],
   "source": []
  },
  {
   "cell_type": "code",
   "execution_count": 8,
   "metadata": {},
   "outputs": [],
   "source": [
    "#orbital elements\n",
    "P=550\n",
    "e=0.3\n",
    "om=np.radians(0)\n",
    "i=np.radians(30)\n",
    "Om=np.radians(75)\n",
    "T0=J1991+900 #900 days after standard 1991\n",
    "a=3\n",
    "orbpar=np.array([P,e,om,i,Om,T0,a])\n",
    "\n",
    "\n",
    "#timestamps of measurements\n",
    "t_mock=np.linspace(T0-2*P,T0+2*P,100)\n",
    "#orbit\n",
    "t_orb=np.linspace(T0-2*P,T0+2*P,int(P/5))\n",
    "mock_orbit=ex.orbit(*orbpar,t_orb)"
   ]
  },
  {
   "cell_type": "markdown",
   "metadata": {},
   "source": [
    "# RV data generation"
   ]
  },
  {
   "cell_type": "code",
   "execution_count": 9,
   "metadata": {},
   "outputs": [],
   "source": [
    "#rv\n",
    "t_RV=np.linspace(T0-2*P,T0+2*P,int(P/5))\n",
    "\n",
    "v=10\n",
    "\n",
    "#RVdata\n",
    "RV=ex.RV_comb(v,P,e,om,i,T0,a,parallax,t_RV)\n",
    "#error\n",
    "RV_err=np.ones(len(RV))*10\n",
    "\n",
    "\n",
    "\n",
    "#plt.figure(figsize=(10,5))\n",
    "#plt.scatter(t_RV,RV,s=10)\n",
    "#plt.xlim([t_RV[0],t_RV[-1]])\n",
    "#plt.grid()\n",
    "#plt.show()\n"
   ]
  },
  {
   "cell_type": "code",
   "execution_count": 10,
   "metadata": {},
   "outputs": [],
   "source": [
    "def write_RV(data):\n",
    "    with open('mock_RV.txt', mode='w') as file:\n",
    "        for row in data:\n",
    "            file.write(\"{:<10}\\t{:<10}\\t{:<10}\\n\".format(row[0], row[1], row[2]))"
   ]
  },
  {
   "cell_type": "code",
   "execution_count": 11,
   "metadata": {},
   "outputs": [],
   "source": [
    "RV_data=np.array([t_RV,RV,RV_err])\n",
    "RV_data=np.transpose(RV_data)\n",
    "write_RV(RV_data)"
   ]
  },
  {
   "cell_type": "markdown",
   "metadata": {},
   "source": [
    "# Hip data generation"
   ]
  },
  {
   "cell_type": "code",
   "execution_count": 1,
   "metadata": {},
   "outputs": [
    {
     "ename": "NameError",
     "evalue": "name 't_RV' is not defined",
     "output_type": "error",
     "traceback": [
      "\u001b[0;31m---------------------------------------------------------------------------\u001b[0m",
      "\u001b[0;31mNameError\u001b[0m                                 Traceback (most recent call last)",
      "Cell \u001b[0;32mIn[1], line 3\u001b[0m\n\u001b[1;32m      1\u001b[0m \u001b[38;5;66;03m#HIP\u001b[39;00m\n\u001b[1;32m      2\u001b[0m \u001b[38;5;66;03m#motions\u001b[39;00m\n\u001b[0;32m----> 3\u001b[0m t_HIP\u001b[38;5;241m=\u001b[39m\u001b[43mt_RV\u001b[49m\n\u001b[1;32m      4\u001b[0m \u001b[38;5;66;03m#t_HIP=np.linspace(T0,T0+600,30)\u001b[39;00m\n\u001b[1;32m      6\u001b[0m earth\u001b[38;5;241m=\u001b[39mex\u001b[38;5;241m.\u001b[39mearth_position(t_HIP)\n",
      "\u001b[0;31mNameError\u001b[0m: name 't_RV' is not defined"
     ]
    }
   ],
   "source": [
    "#HIP\n",
    "#motions\n",
    "t_HIP=t_RV\n",
    "#t_HIP=np.linspace(T0,T0+600,30)\n",
    "\n",
    "earth=ex.earth_position(t_HIP)\n",
    "\n",
    "std=np.array(ex.standard_model(asc,dec,parallax,mu_a_star,mu_d,t_HIP,earth,tangential=True))\n",
    "orb=np.array(ex.orbit(P,e,om,i,Om,T0,a,t_HIP))\n",
    "#motion=std+orb\n",
    "\n",
    "\n",
    "\n",
    "\n",
    "#A3,A4,A5,A6,A7,A8,A9=hip_ad\n",
    "\n",
    "#Angle of measurement\n",
    "\n",
    "angle=np.arctan2(orb[1],orb[0]) # use this to have an easy example\n",
    "\n",
    "\n",
    "#angle=np.random.uniform(0,2*np.pi,len(t_HIP)) #use this for a random angle distribution\n",
    "\n",
    "\n",
    "\n",
    "############################################################################################ dont touch after this line\n",
    "A8=np.cos(angle)*orb[0]+np.sin(angle)*orb[1]\n",
    "A9=abs(np.random.normal(np.std(A8),0.5*np.std(A8),len(A8)))\n",
    "\n",
    "#A9=np.ones(len(A8))*np.std(A8)*0.25\n",
    "\n",
    "A5=np.zeros(len(A8))\n",
    "\n",
    "\n",
    "#X and Y\n",
    "A3=1*np.cos(angle)\n",
    "A4=1*np.sin(angle)\n",
    "\n",
    "#year of mesaurement\n",
    "epoch=(t_HIP-J2000)/365.25 +2000\n",
    "\n",
    "#years after HIP stand epoch\n",
    "frac=epoch-1991.25\n",
    "A6=frac*A3\n",
    "A7=frac*A4 #to A4 corresponding poper motion factor\n",
    "\n",
    "\n",
    "HIP=A3,A4,A5,A6,A7,A8,A9\n",
    "\n",
    "hip_standard=np.zeros(5)\n",
    "\n",
    "\n",
    "hip_standard[0],hip_standard[1]=ex.pos_recalc(standard,J2016,J1991)\n",
    "#hip standard epoch is J1991\n",
    "\n",
    "\n",
    "hip_standard[2:5]=np.array(standard[2:5])\n",
    "##################################################################################### end of data generation\n",
    "\n"
   ]
  },
  {
   "cell_type": "code",
   "execution_count": 13,
   "metadata": {},
   "outputs": [],
   "source": [
    "#x,xe,y,ye=ex.hip_2d(A3,A4,A8,A9)\n",
    "#plt.scatter(0,0)\n",
    "#ex.plot_hip(x,xe,y,ye)\n",
    "#plt.scatter(orb[0],orb[1],c=\"k\")\n",
    "#plt.axis(\"equal\")\n",
    "#plt.grid()\n",
    "#plt.show()"
   ]
  },
  {
   "cell_type": "code",
   "execution_count": 14,
   "metadata": {},
   "outputs": [],
   "source": [
    "#writing the data\n",
    "data=np.array([np.arange(0,len(A8)),frac,A5,A3,A4,A8,A9])\n",
    "data=np.around(data,5)\n",
    "data=np.transpose(data)"
   ]
  },
  {
   "cell_type": "code",
   "execution_count": 15,
   "metadata": {},
   "outputs": [],
   "source": [
    "def write_HIP(data):\n",
    "    with open('mock_HIP.txt', mode='w') as file:\n",
    "        file.write(\"useless one line header \\n\")\n",
    "        for row in data:\n",
    "            file.write(\"{:<8}\\t{:<8}\\t{:<8}\\t{:<8}\\t{:<8}\\t{:<8}\\t{:<8}\\n\".format(\n",
    "                row[0], row[1], row[2],row[3],row[4],row[5],row[6]))\n"
   ]
  },
  {
   "cell_type": "code",
   "execution_count": 16,
   "metadata": {},
   "outputs": [],
   "source": [
    "write_HIP(data)"
   ]
  },
  {
   "cell_type": "code",
   "execution_count": 17,
   "metadata": {},
   "outputs": [],
   "source": [
    "par= np.array([format(x, '.10g') for x in orbpar])\n",
    "variables=standard,par"
   ]
  },
  {
   "cell_type": "code",
   "execution_count": 18,
   "metadata": {},
   "outputs": [],
   "source": [
    "def write_solution(variables):\n",
    "    with open('sol.txt', mode='w') as file:\n",
    "        file.write('Gaia parameters:\\n')\n",
    "        file.write(str(variables[0])+\"\\n\")\n",
    "        file.write('Orbit parameters:\\n')\n",
    "        file.write(str(variables[1]))\n"
   ]
  },
  {
   "cell_type": "code",
   "execution_count": 19,
   "metadata": {},
   "outputs": [],
   "source": [
    "write_solution(variables)"
   ]
  },
  {
   "cell_type": "code",
   "execution_count": 20,
   "metadata": {},
   "outputs": [],
   "source": [
    "def planet_mass(M_s,parallax,P,e,i,a):\n",
    "    \n",
    "    K1=2*np.pi*a*np.sin(i)*1.496e11/(parallax)\n",
    "    K2=(P*86400*(1-e**2)**0.5)\n",
    "    K=K1/K2\n",
    "    G=6.6743*1e-11\n",
    "    print(\"K:\")\n",
    "    print(K)\n",
    "    #print((2*np.pi*G)*(M_s**2))\n",
    "    M_p=((K**3) *(P*24*60**2)/(2*np.pi*G*np.sin(i)**3)*(M_s**2))**(1/3)\n",
    "    return M_p/M_Jup"
   ]
  },
  {
   "cell_type": "code",
   "execution_count": 21,
   "metadata": {},
   "outputs": [],
   "source": [
    "def K(parallax,P,e,i,a):\n",
    "    K1=2*np.pi*a*np.sin(i)*1.496e11/(parallax)\n",
    "    K2=(P*86400*(1-e**2)**0.5)\n",
    "    K=K1/K2\n",
    "\n",
    "    return K\n"
   ]
  },
  {
   "cell_type": "code",
   "execution_count": 28,
   "metadata": {},
   "outputs": [
    {
     "data": {
      "text/plain": [
       "155.51618614599337"
      ]
     },
     "execution_count": 28,
     "metadata": {},
     "output_type": "execute_result"
    }
   ],
   "source": [
    "K(parallax,P,e,i,a)"
   ]
  },
  {
   "cell_type": "code",
   "execution_count": 26,
   "metadata": {},
   "outputs": [
    {
     "data": {
      "text/plain": [
       "200"
      ]
     },
     "execution_count": 26,
     "metadata": {},
     "output_type": "execute_result"
    }
   ],
   "source": [
    "parallax"
   ]
  },
  {
   "cell_type": "code",
   "execution_count": null,
   "metadata": {},
   "outputs": [],
   "source": [
    "def a_mas(parallax,K,P,e,i):\n",
    "    "
   ]
  }
 ],
 "metadata": {
  "kernelspec": {
   "display_name": "Python 3",
   "language": "python",
   "name": "python3"
  },
  "language_info": {
   "codemirror_mode": {
    "name": "ipython",
    "version": 3
   },
   "file_extension": ".py",
   "mimetype": "text/x-python",
   "name": "python",
   "nbconvert_exporter": "python",
   "pygments_lexer": "ipython3",
   "version": "3.10.12"
  }
 },
 "nbformat": 4,
 "nbformat_minor": 2
}
